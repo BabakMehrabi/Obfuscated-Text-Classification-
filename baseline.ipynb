{
 "cells": [
  {
   "cell_type": "markdown",
   "metadata": {},
   "source": [
    "## import packages"
   ]
  },
  {
   "cell_type": "code",
   "execution_count": 1,
   "metadata": {},
   "outputs": [],
   "source": [
    "import numpy as np \n",
    "seed= 42\n",
    "np.random.seed( seed )\n",
    "\n",
    "\n",
    "import pandas as pd \n",
    "pd.set_option('display.max_rows', 500)\n",
    "pd.set_option('display.max_columns', 500)\n",
    "pd.set_option('display.max_colwidth', 500)\n",
    "\n",
    "# utility\n",
    "import os\n",
    "import sys\n",
    "from pprint import pprint\n",
    "from IPython.display import display\n",
    "import gc\n",
    "from tqdm import tqdm\n",
    "from collections import Counter\n",
    "import typing\n",
    "\n",
    "# visualizations\n",
    "import matplotlib.pyplot as plt\n",
    "\n",
    "# NLP\n",
    "import gensim\n",
    "\n",
    "# modelling and data\n",
    "from sklearn.feature_extraction.text import CountVectorizer, TfidfTransformer\n",
    "from sklearn.model_selection import train_test_split, cross_val_score, GridSearchCV\n",
    "from sklearn import metrics\n",
    "from sklearn.utils import class_weight\n",
    "\n",
    "from sklearn.naive_bayes import MultinomialNB\n",
    "from sklearn.naive_bayes import MultinomialNB\n",
    "\n",
    "import xgboost as xgb\n",
    "\n",
    "## NN\n",
    "from tensorflow.keras.models import Sequential\n",
    "from tensorflow.keras.layers import Dense, Dropout, SpatialDropout1D, LSTM, Embedding\n",
    "from tensorflow.keras.utils import plot_model\n",
    "from tensorflow.keras import utils\n",
    "from tensorflow.keras.wrappers.scikit_learn import KerasClassifier\n",
    "from tensorflow.keras.preprocessing.text import Tokenizer\n",
    "from tensorflow.keras.preprocessing import sequence\n",
    "\n",
    "# multiprocessing\n",
    "from multiprocessing import Pool"
   ]
  },
  {
   "cell_type": "code",
   "execution_count": 2,
   "metadata": {},
   "outputs": [
    {
     "name": "stdout",
     "output_type": "stream",
     "text": [
      "(35513, 2)\n"
     ]
    }
   ],
   "source": [
    "path= os.path.join('/kaggle', 'input', 'obfuscated_text', 'xtrain_obfuscated.txt')\n",
    "xtrain= pd.read_csv(path, header= None)\n",
    "xtrain.columns= ['text']\n",
    "\n",
    "path= os.path.join('/kaggle', 'input', 'obfuscated_text', 'xtest_obfuscated.txt')\n",
    "xtest= pd.read_csv(path, header= None)\n",
    "xtest.columns= ['text']\n",
    "\n",
    "path= os.path.join('/kaggle', 'input', 'obfuscated_text', 'ytrain.txt')\n",
    "ytrain= pd.read_csv(path, header= None)\n",
    "ytrain.columns= ['label']\n",
    "\n",
    "data= pd.concat([xtrain, ytrain], axis= 1)\n",
    "data= pd.concat([data, xtest], axis= 0)\n",
    "print(data.shape)\n",
    "\n"
   ]
  },
  {
   "cell_type": "code",
   "execution_count": 3,
   "metadata": {},
   "outputs": [
    {
     "data": {
      "text/html": [
       "<div>\n",
       "<style scoped>\n",
       "    .dataframe tbody tr th:only-of-type {\n",
       "        vertical-align: middle;\n",
       "    }\n",
       "\n",
       "    .dataframe tbody tr th {\n",
       "        vertical-align: top;\n",
       "    }\n",
       "\n",
       "    .dataframe thead th {\n",
       "        text-align: right;\n",
       "    }\n",
       "</style>\n",
       "<table border=\"1\" class=\"dataframe\">\n",
       "  <thead>\n",
       "    <tr style=\"text-align: right;\">\n",
       "      <th></th>\n",
       "      <th>text</th>\n",
       "      <th>label</th>\n",
       "      <th>length</th>\n",
       "    </tr>\n",
       "  </thead>\n",
       "  <tbody>\n",
       "    <tr>\n",
       "      <th>0</th>\n",
       "      <td>satwamuluhqgulamlrmvezuhqvkrpmletwulcitwskuhlemvtwamuluhiwiwenuhlrvimvqvkruhulenamuluhqgqvtwvimviwuhtwamuluhulqvkrenamcitwuhvipmpmqvuhskiwkrpmdfuhlrvimvskvikrpmqvuhskmvgzenleuhqvmvamuluhulenamuluhqvletwtwvipmpmgzleenamuhtwamuluhtwletwdfuhiwkrxeleentwxeuhpmqvuhtwiwmvamdfuhpkeztwamuluhvimvuhqvtwmkpmpmlelruhgztwtwskuhtwlrkrpmlruhpmuluhqvenuhtwyplepmxeuhenuhamypkrqvuhamulmvdfuhqvskentwamletwlrlrpmiwuhtwamul</td>\n",
       "      <td>7.0</td>\n",
       "      <td>406</td>\n",
       "    </tr>\n",
       "    <tr>\n",
       "      <th>1</th>\n",
       "      <td>twmkiwpmqvtwleuhsaiwsktwmvlelekramuhqvkruhtwskenezuhskvienuhqgulvienulqvvimvuhvienuhvimvuhulyptwbrtvkrqvuhtwamuluhsktwlrvienamypuhqvmvamguuhvgoaulamlrmvvibhpmuluhqvijulmvnkuhqgskkrpmiwenuhsktwskskenuhsaiwmvleenulvikriwpmmkvimvuhiguhvgqgulleentwamuhsaezuhqvqvtwiwtvuhskvisknkuhravidfpmvitwleuhvienmvypqvpmjeuhxepmuhlekrtwulenezenuhiwenmvypvimvmkpmlegzuhsktwulenletvtwiwtwypuhtwamuluhpmul</td>\n",
       "      <td>3.0</td>\n",
       "      <td>386</td>\n",
       "    </tr>\n",
       "    <tr>\n",
       "      <th>2</th>\n",
       "      <td>vidfpmskuhvilepmuluhtwtvuhulsovienamqvuhskiwmvamypuhtwamulsouhqgvienezuhtwamuluhamulmvdfuhsaiwulvitwiwpmmvmkuhlrvimviwlrlrkrleulqvuhqgiwlemvlruhtwamuluhsktwezentwleypqvuhsoqgulenamuluhlepmxeuhtwleenypuhulsovipmskuhiguhqgiwiwmvdfuhqgulenamuluhlepmxeuhtwleenypuhulsovipmskuhigsouhulqvvimvenlrenuhskentwamuhlekrpmsauhulmviwgzqvuhiwiwsoiguhlepmuhqgtwezuhezpmlexeuhxexepmuhskvienulxysouhuhragzqvenlelruhqvsoiwlemvlruhtwamul</td>\n",
       "      <td>8.0</td>\n",
       "      <td>418</td>\n",
       "    </tr>\n",
       "    <tr>\n",
       "      <th>3</th>\n",
       "      <td>raskleenkrlruhtwulenleengztwqvuhenuhsatvuhsktwskvikrpmlelekrqvuhsktwuciwendfuhamypentwuhskvienuhqgulleengzenuhulgztwucuhtwletwdfuhpmdfuluhtwamguuhralrvimvezpmypuhtwleenuhkrpmsauhdfpmviucuhsatwamulnkuhpkulypmvmkvipmypuhsaezuhpmuluhulvientwlrletwqvuhtwamuluhskmvenqvuhvgqgskleenpmtvuhvipmuhsktwulyptwgzcitwuhtwleenuhkrpmrbnkuhraleentwuhsaezuhtwskmvqvvimvuhlrvimvamultwezpmqvuhulqvlekrtvuhpmuluhsktweztwtwqvuhulenamuluhskvikrpmqv</td>\n",
       "      <td>3.0</td>\n",
       "      <td>426</td>\n",
       "    </tr>\n",
       "    <tr>\n",
       "      <th>4</th>\n",
       "      <td>dfenqvuhtwamqvuhqgtwiwtvenuluhqvijletwamulenxeuhletwamuhleentwviuhvidfpmskuhulenqvuhtwamqvuhvitwamdfuhskvienuhpkvidfpmultwucpmeeuhqvskleendfpmuluhsktwucpmpmiwuhdfpmskvimvdfuhskuhuhralrvimvvilepmezuhsktwulvimvpmgzgzenuhtwamuluhvipmuhsktwlemvengztwleuhenqvmvkrpmxzuhpkskmviwbhvimvxexepmypuhenuhvipmgzkruhgzenleuhenuhtwucmviwuhulentwtvuhenuhamulmvdfuhskvipmyptwqvuhsaletwmktwuhsktwlekrqventwezuhamypmvamdfuhqgulmvuhvimv</td>\n",
       "      <td>4.0</td>\n",
       "      <td>416</td>\n",
       "    </tr>\n",
       "    <tr>\n",
       "      <th>5</th>\n",
       "      <td>qvsotwamuhulenamdfuhezpmlexeuhqgiwiwmvdfuhtwamuhtwqvlekrpmypuhxepmuhqvenuhuhjztwypvitwskmvmktwuhqvsolrvimvtwuhqvvilekruluhletwuliwpmdfuhskvienuhqgletwmkpmuhulqvtwkrszvimvuhtwamuluhultwlruhsatwamuluhxemvsouhuhjzqvlrentwuhskmvenqvuhsoqgvipmuhtwleenuhqvvipmmvqvqvtwqvuhtwamgusouhvienamuluhtwlepmezuhqvsotwletwamgusouhraqvgzmviwuhqvmvamuhlrvimvulmvtvuhqgsatvpmguuhsktwmkletwqvtvpmuhsoqgamqvenezqvuhenuhqvmvuhqvmvamguso</td>\n",
       "      <td>8.0</td>\n",
       "      <td>414</td>\n",
       "    </tr>\n",
       "    <tr>\n",
       "      <th>6</th>\n",
       "      <td>iwmvenqvuhpmuluhsaendfuhtwamuluhqvmvuhqvmvamuluhoaamenlelekrlpuhraqvletwiwiwtwmkenleuluhsktwqvqvtwleulqvmvskuhtwmktwmviwtwlevtdfpmviucuhkrpmsauhqgqvlrpmskuhqvijskleenviletwdfuhraulxyvtviletwulqvenuhqvucleenamqvuhtwezpmqvuhdfenqvuhigvtulamlrmvleuhiwiwenvtsaiwulvitwqvtwlegzuhgzkruhsktwucypmvgzuhtwtvuhiwiwijtwsankuhpksatvuhulpmamqvuhtwamuhqvenuheztwamuluhvipmgzkruhtwypvieniwlr</td>\n",
       "      <td>7.0</td>\n",
       "      <td>376</td>\n",
       "    </tr>\n",
       "    <tr>\n",
       "      <th>7</th>\n",
       "      <td>twqvpmiwypuhpmuluhsktweztwtwqvuhqgskpmpmiwtvuhxepmuhlekrpmiwpmypuhtwamuluhtwucmviwuhqgskkrpmiwypuhsktwleuhenuhvitwamuluhskviskuhsooatwezuhgzmvamqvlepmdfuhskvienuhvidfpmskuhiwiwenxeuhiwiwmvdfuhkrpmsauhxemvuhqgqvtwlrenuhqvqvtwiwulvikrpmypuhamlrkrpmleamuluhqgletwulentwlelruhskvienuhtwlepmezuhsavienezuhskvienuhqgsaenuhqgkrpmsauhtwmkmvlruhiguhiwiwmvdfuhqvtwmkmviwuhtwqvtwamuluhiwiwsksouhjzlrvimvsaenqvuhtwtvuhpmuluhsktweztwtwqv</td>\n",
       "      <td>1.0</td>\n",
       "      <td>424</td>\n",
       "    </tr>\n",
       "    <tr>\n",
       "      <th>8</th>\n",
       "      <td>iguhqgqvulqvmvlrpmiwpmvitwleamgzuhtwamuluhamulmvdfuhsaenezuhulmvuhqvenuhtwulenletwgzpmuhpmuluhulvimvamuhqvmvamuluhlrvimvmkentwiwuhulkrdfuhiwkrxeletwskvipmdfuhtwamuluhsatvuhsktwulenqvvitwgzezpmypuhvienamuluhtwlepmezuhqvmvuhletwgzpmlegzuhvimvenletvuhqvmvamuhxepmuhqvqvtwviiwiwenezqvuhtwmkmvulenleengzezpmypuhiwkrxeletwskvipmdfuhtwamuluhqgulamlrmviwuhqvmvamuluhvimvuhsktwdftwmvmkuhqglepmuyuhohsaiwiwenypmvlrpmiwpmvitwleamgz</td>\n",
       "      <td>7.0</td>\n",
       "      <td>420</td>\n",
       "    </tr>\n",
       "    <tr>\n",
       "      <th>9</th>\n",
       "      <td>vimvenlrenuhulkrpmuhtwezenypuhtwdfuhqgtwypmvleamuluhlepmuhtwypmvdfuluhulmvuhxepmuhskvikrpmleuhtwamuluhtwskenezuhskenamuhtwdfuhletwulxeenuhskvienuhqgtwqventwuhamulmvdfuhvimvuhlrvimvuciwendfuhlepmxeuhucvienleuhskvienuhvidfpmlelrletwmkpmuhpmpmuluhqvendfuhvitwskleenlruhtwamguuhlrvimvtwtvuhsatvuhulmvuhlrvimvulmvypmviwtwuhqvenuhxeiwtwqvsaezuhsktwskleenlrtwleuhulpmviuhskenamuhiguhxemvuhqgskmvskuhulmvuhvienamuluhtwlepmez</td>\n",
       "      <td>3.0</td>\n",
       "      <td>416</td>\n",
       "    </tr>\n",
       "  </tbody>\n",
       "</table>\n",
       "</div>"
      ],
      "text/plain": [
       "                                                                                                                                                                                                                                                                                                                                                                                                                                         text  \\\n",
       "0                      satwamuluhqgulamlrmvezuhqvkrpmletwulcitwskuhlemvtwamuluhiwiwenuhlrvimvqvkruhulenamuluhqgqvtwvimviwuhtwamuluhulqvkrenamcitwuhvipmpmqvuhskiwkrpmdfuhlrvimvskvikrpmqvuhskmvgzenleuhqvmvamuluhulenamuluhqvletwtwvipmpmgzleenamuhtwamuluhtwletwdfuhiwkrxeleentwxeuhpmqvuhtwiwmvamdfuhpkeztwamuluhvimvuhqvtwmkpmpmlelruhgztwtwskuhtwlrkrpmlruhpmuluhqvenuhtwyplepmxeuhenuhamypkrqvuhamulmvdfuhqvskentwamletwlrlrpmiwuhtwamul   \n",
       "1                                          twmkiwpmqvtwleuhsaiwsktwmvlelekramuhqvkruhtwskenezuhskvienuhqgulvienulqvvimvuhvienuhvimvuhulyptwbrtvkrqvuhtwamuluhsktwlrvienamypuhqvmvamguuhvgoaulamlrmvvibhpmuluhqvijulmvnkuhqgskkrpmiwenuhsktwskskenuhsaiwmvleenulvikriwpmmkvimvuhiguhvgqgulleentwamuhsaezuhqvqvtwiwtvuhskvisknkuhravidfpmvitwleuhvienmvypqvpmjeuhxepmuhlekrtwulenezenuhiwenmvypvimvmkpmlegzuhsktwulenletvtwiwtwypuhtwamuluhpmul   \n",
       "2          vidfpmskuhvilepmuluhtwtvuhulsovienamqvuhskiwmvamypuhtwamulsouhqgvienezuhtwamuluhamulmvdfuhsaiwulvitwiwpmmvmkuhlrvimviwlrlrkrleulqvuhqgiwlemvlruhtwamuluhsktwezentwleypqvuhsoqgulenamuluhlepmxeuhtwleenypuhulsovipmskuhiguhqgiwiwmvdfuhqgulenamuluhlepmxeuhtwleenypuhulsovipmskuhigsouhulqvvimvenlrenuhskentwamuhlekrpmsauhulmviwgzqvuhiwiwsoiguhlepmuhqgtwezuhezpmlexeuhxexepmuhskvienulxysouhuhragzqvenlelruhqvsoiwlemvlruhtwamul   \n",
       "3  raskleenkrlruhtwulenleengztwqvuhenuhsatvuhsktwskvikrpmlelekrqvuhsktwuciwendfuhamypentwuhskvienuhqgulleengzenuhulgztwucuhtwletwdfuhpmdfuluhtwamguuhralrvimvezpmypuhtwleenuhkrpmsauhdfpmviucuhsatwamulnkuhpkulypmvmkvipmypuhsaezuhpmuluhulvientwlrletwqvuhtwamuluhskmvenqvuhvgqgskleenpmtvuhvipmuhsktwulyptwgzcitwuhtwleenuhkrpmrbnkuhraleentwuhsaezuhtwskmvqvvimvuhlrvimvamultwezpmqvuhulqvlekrtvuhpmuluhsktweztwtwqvuhulenamuluhskvikrpmqv   \n",
       "4            dfenqvuhtwamqvuhqgtwiwtvenuluhqvijletwamulenxeuhletwamuhleentwviuhvidfpmskuhulenqvuhtwamqvuhvitwamdfuhskvienuhpkvidfpmultwucpmeeuhqvskleendfpmuluhsktwucpmpmiwuhdfpmskvimvdfuhskuhuhralrvimvvilepmezuhsktwulvimvpmgzgzenuhtwamuluhvipmuhsktwlemvengztwleuhenqvmvkrpmxzuhpkskmviwbhvimvxexepmypuhenuhvipmgzkruhgzenleuhenuhtwucmviwuhulentwtvuhenuhamulmvdfuhskvipmyptwqvuhsaletwmktwuhsktwlekrqventwezuhamypmvamdfuhqgulmvuhvimv   \n",
       "5              qvsotwamuhulenamdfuhezpmlexeuhqgiwiwmvdfuhtwamuhtwqvlekrpmypuhxepmuhqvenuhuhjztwypvitwskmvmktwuhqvsolrvimvtwuhqvvilekruluhletwuliwpmdfuhskvienuhqgletwmkpmuhulqvtwkrszvimvuhtwamuluhultwlruhsatwamuluhxemvsouhuhjzqvlrentwuhskmvenqvuhsoqgvipmuhtwleenuhqvvipmmvqvqvtwqvuhtwamgusouhvienamuluhtwlepmezuhqvsotwletwamgusouhraqvgzmviwuhqvmvamuhlrvimvulmvtvuhqgsatvpmguuhsktwmkletwqvtvpmuhsoqgamqvenezqvuhenuhqvmvuhqvmvamguso   \n",
       "6                                                    iwmvenqvuhpmuluhsaendfuhtwamuluhqvmvuhqvmvamuluhoaamenlelekrlpuhraqvletwiwiwtwmkenleuluhsktwqvqvtwleulqvmvskuhtwmktwmviwtwlevtdfpmviucuhkrpmsauhqgqvlrpmskuhqvijskleenviletwdfuhraulxyvtviletwulqvenuhqvucleenamqvuhtwezpmqvuhdfenqvuhigvtulamlrmvleuhiwiwenvtsaiwulvitwqvtwlegzuhgzkruhsktwucypmvgzuhtwtvuhiwiwijtwsankuhpksatvuhulpmamqvuhtwamuhqvenuheztwamuluhvipmgzkruhtwypvieniwlr   \n",
       "7    twqvpmiwypuhpmuluhsktweztwtwqvuhqgskpmpmiwtvuhxepmuhlekrpmiwpmypuhtwamuluhtwucmviwuhqgskkrpmiwypuhsktwleuhenuhvitwamuluhskviskuhsooatwezuhgzmvamqvlepmdfuhskvienuhvidfpmskuhiwiwenxeuhiwiwmvdfuhkrpmsauhxemvuhqgqvtwlrenuhqvqvtwiwulvikrpmypuhamlrkrpmleamuluhqgletwulentwlelruhskvienuhtwlepmezuhsavienezuhskvienuhqgsaenuhqgkrpmsauhtwmkmvlruhiguhiwiwmvdfuhqvtwmkmviwuhtwqvtwamuluhiwiwsksouhjzlrvimvsaenqvuhtwtvuhpmuluhsktweztwtwqv   \n",
       "8        iguhqgqvulqvmvlrpmiwpmvitwleamgzuhtwamuluhamulmvdfuhsaenezuhulmvuhqvenuhtwulenletwgzpmuhpmuluhulvimvamuhqvmvamuluhlrvimvmkentwiwuhulkrdfuhiwkrxeletwskvipmdfuhtwamuluhsatvuhsktwulenqvvitwgzezpmypuhvienamuluhtwlepmezuhqvmvuhletwgzpmlegzuhvimvenletvuhqvmvamuhxepmuhqvqvtwviiwiwenezqvuhtwmkmvulenleengzezpmypuhiwkrxeletwskvipmdfuhtwamuluhqgulamlrmviwuhqvmvamuluhvimvuhsktwdftwmvmkuhqglepmuyuhohsaiwiwenypmvlrpmiwpmvitwleamgz   \n",
       "9            vimvenlrenuhulkrpmuhtwezenypuhtwdfuhqgtwypmvleamuluhlepmuhtwypmvdfuluhulmvuhxepmuhskvikrpmleuhtwamuluhtwskenezuhskenamuhtwdfuhletwulxeenuhskvienuhqgtwqventwuhamulmvdfuhvimvuhlrvimvuciwendfuhlepmxeuhucvienleuhskvienuhvidfpmlelrletwmkpmuhpmpmuluhqvendfuhvitwskleenlruhtwamguuhlrvimvtwtvuhsatvuhulmvuhlrvimvulmvypmviwtwuhqvenuhxeiwtwqvsaezuhsktwskleenlrtwleuhulpmviuhskenamuhiguhxemvuhqgskmvskuhulmvuhvienamuluhtwlepmez   \n",
       "\n",
       "   label  length  \n",
       "0    7.0     406  \n",
       "1    3.0     386  \n",
       "2    8.0     418  \n",
       "3    3.0     426  \n",
       "4    4.0     416  \n",
       "5    8.0     414  \n",
       "6    7.0     376  \n",
       "7    1.0     424  \n",
       "8    7.0     420  \n",
       "9    3.0     416  "
      ]
     },
     "metadata": {},
     "output_type": "display_data"
    },
    {
     "data": {
      "text/plain": [
       "Text(0.5, 1.0, '')"
      ]
     },
     "execution_count": 3,
     "metadata": {},
     "output_type": "execute_result"
    },
    {
     "data": {
      "image/png": "[encoded data removed]",
      "text/plain": [
       "<Figure size 432x288 with 1 Axes>"
      ]
     },
     "metadata": {
      "needs_background": "light"
     },
     "output_type": "display_data"
    }
   ],
   "source": [
    "data['length']= data['text'].apply(len)\n",
    "display(data.head(10))\n",
    "plt.hist(data['length'], bins= 30)\n",
    "plt.title('')"
   ]
  },
  {
   "cell_type": "code",
   "execution_count": 4,
   "metadata": {},
   "outputs": [
    {
     "data": {
      "text/plain": [
       "7.0     15.676806\n",
       "6.0     12.997878\n",
       "3.0     12.373512\n",
       "8.0     11.177068\n",
       "1.0     10.638821\n",
       "10.0     9.387014\n",
       "4.0      7.187894\n",
       "5.0      7.021807\n",
       "2.0      4.524344\n",
       "11.0     4.330575\n",
       "9.0      3.014179\n",
       "0.0      1.670101\n",
       "Name: label, dtype: float64"
      ]
     },
     "execution_count": 4,
     "metadata": {},
     "output_type": "execute_result"
    }
   ],
   "source": [
    "# distribution of output classes\n",
    "data['label'].value_counts(normalize= True)*100"
   ]
  },
  {
   "cell_type": "markdown",
   "metadata": {},
   "source": [
    "## text normalization\n",
    "\n",
    "Although data sounds to be clean, but I will do some tests to see if it is the case."
   ]
  },
  {
   "cell_type": "code",
   "execution_count": 5,
   "metadata": {},
   "outputs": [
    {
     "data": {
      "text/plain": [
       "True"
      ]
     },
     "execution_count": 5,
     "metadata": {},
     "output_type": "execute_result"
    }
   ],
   "source": [
    "text= data['text'].iloc[0]\n",
    "# check if all are True\n",
    "sum([el.isalpha() for el in text]) == len(text)"
   ]
  },
  {
   "cell_type": "code",
   "execution_count": 6,
   "metadata": {},
   "outputs": [
    {
     "data": {
      "text/plain": [
       "True    35513\n",
       "Name: quality_check, dtype: int64"
      ]
     },
     "execution_count": 6,
     "metadata": {},
     "output_type": "execute_result"
    }
   ],
   "source": [
    "data['quality_check']= data['text'].apply( lambda row:\n",
    "                                        sum([el.isalpha() for el in row]) == len(row) )\n",
    "data['quality_check'].value_counts()"
   ]
  },
  {
   "cell_type": "markdown",
   "metadata": {},
   "source": [
    "That just told me the text is completely clean. So we'll try to featurize it."
   ]
  },
  {
   "cell_type": "markdown",
   "metadata": {},
   "source": [
    "## featurizing the data"
   ]
  },
  {
   "cell_type": "code",
   "execution_count": 7,
   "metadata": {},
   "outputs": [],
   "source": [
    "def bow_extractor(corpus, ngrams= (1,1)):\n",
    "    \"\"\"\n",
    "    corpus should be an array of documents. For example list\n",
    "    \"\"\"\n",
    "    vectorizer= CountVectorizer(analyzer='char', min_df= 1, ngram_range= ngrams)\n",
    "    features= vectorizer.fit_transform(corpus)\n",
    "    return vectorizer, features\n",
    "\n",
    "def tfidf_transformer(bow_matrix):\n",
    "    transformer = TfidfTransformer(norm='l2', smooth_idf=True, use_idf=True)\n",
    "    tfidf_matrix = transformer.fit_transform(bow_matrix)\n",
    "    return transformer, tfidf_matrix\n",
    "    "
   ]
  },
  {
   "cell_type": "code",
   "execution_count": 8,
   "metadata": {
    "scrolled": true
   },
   "outputs": [],
   "source": [
    "def prepare_data(train: typing.List[str], \n",
    "                 test: typing.List[str],\n",
    "                 feature_type: str\n",
    "                 ) -> typing.Tuple[np.array, np.array, typing.List[str]]:\n",
    "    \"\"\"\n",
    "    Gets \n",
    "        1. train data: list of documents\n",
    "        2. test data: list of documents\n",
    "    returns\n",
    "        1. train: numpy array\n",
    "        2. test: numpy array\n",
    "        3. feature names: list of strings\n",
    "        \n",
    "    \"\"\"\n",
    "    if feature_type not in {'bow', 'tfidf'}:\n",
    "        raise ValueError(\"feature_type can only be 'bow' or 'tfidf'.\")\n",
    "    # first put train and test together\n",
    "    data= train.copy()\n",
    "    data.extend(test)\n",
    "    # get bow features, here bag of letters\n",
    "    bow_vectorizer, bow_features= bow_extractor(corpus= data,  ngrams= (1,1) )\n",
    "    # get tfidf features\n",
    "    tfidf_trans, tfidf_features= tfidf_transformer( bow_features )\n",
    "    if feature_type=='bow':\n",
    "        return ( bow_features.todense()[:len(train)],\n",
    "                 bow_features.todense()[len(train):],\n",
    "                 bow_vectorizer.get_feature_names() )\n",
    "    else:\n",
    "        return ( tfidf_features.todense()[:len(train)],\n",
    "                 tfidf_features.todense()[len(train):],\n",
    "                 bow_vectorizer.get_feature_names() )"
   ]
  },
  {
   "cell_type": "code",
   "execution_count": 9,
   "metadata": {},
   "outputs": [
    {
     "name": "stdout",
     "output_type": "stream",
     "text": [
      "(32513, 27)\n"
     ]
    },
    {
     "data": {
      "text/html": [
       "<div>\n",
       "<style scoped>\n",
       "    .dataframe tbody tr th:only-of-type {\n",
       "        vertical-align: middle;\n",
       "    }\n",
       "\n",
       "    .dataframe tbody tr th {\n",
       "        vertical-align: top;\n",
       "    }\n",
       "\n",
       "    .dataframe thead th {\n",
       "        text-align: right;\n",
       "    }\n",
       "</style>\n",
       "<table border=\"1\" class=\"dataframe\">\n",
       "  <thead>\n",
       "    <tr style=\"text-align: right;\">\n",
       "      <th></th>\n",
       "      <th>a</th>\n",
       "      <th>b</th>\n",
       "      <th>c</th>\n",
       "      <th>d</th>\n",
       "      <th>e</th>\n",
       "      <th>f</th>\n",
       "      <th>g</th>\n",
       "      <th>h</th>\n",
       "      <th>i</th>\n",
       "      <th>j</th>\n",
       "      <th>k</th>\n",
       "      <th>l</th>\n",
       "      <th>m</th>\n",
       "      <th>n</th>\n",
       "      <th>o</th>\n",
       "      <th>p</th>\n",
       "      <th>q</th>\n",
       "      <th>r</th>\n",
       "      <th>s</th>\n",
       "      <th>t</th>\n",
       "      <th>u</th>\n",
       "      <th>v</th>\n",
       "      <th>w</th>\n",
       "      <th>x</th>\n",
       "      <th>y</th>\n",
       "      <th>z</th>\n",
       "      <th>label</th>\n",
       "    </tr>\n",
       "  </thead>\n",
       "  <tbody>\n",
       "    <tr>\n",
       "      <th>0</th>\n",
       "      <td>17</td>\n",
       "      <td>0</td>\n",
       "      <td>2</td>\n",
       "      <td>4</td>\n",
       "      <td>25</td>\n",
       "      <td>4</td>\n",
       "      <td>5</td>\n",
       "      <td>34</td>\n",
       "      <td>16</td>\n",
       "      <td>0</td>\n",
       "      <td>16</td>\n",
       "      <td>34</td>\n",
       "      <td>41</td>\n",
       "      <td>10</td>\n",
       "      <td>0</td>\n",
       "      <td>17</td>\n",
       "      <td>15</td>\n",
       "      <td>16</td>\n",
       "      <td>7</td>\n",
       "      <td>23</td>\n",
       "      <td>50</td>\n",
       "      <td>30</td>\n",
       "      <td>30</td>\n",
       "      <td>3</td>\n",
       "      <td>2</td>\n",
       "      <td>5</td>\n",
       "      <td>7</td>\n",
       "    </tr>\n",
       "    <tr>\n",
       "      <th>1</th>\n",
       "      <td>12</td>\n",
       "      <td>2</td>\n",
       "      <td>0</td>\n",
       "      <td>1</td>\n",
       "      <td>28</td>\n",
       "      <td>1</td>\n",
       "      <td>8</td>\n",
       "      <td>30</td>\n",
       "      <td>24</td>\n",
       "      <td>2</td>\n",
       "      <td>22</td>\n",
       "      <td>24</td>\n",
       "      <td>30</td>\n",
       "      <td>16</td>\n",
       "      <td>1</td>\n",
       "      <td>14</td>\n",
       "      <td>12</td>\n",
       "      <td>10</td>\n",
       "      <td>14</td>\n",
       "      <td>19</td>\n",
       "      <td>43</td>\n",
       "      <td>39</td>\n",
       "      <td>24</td>\n",
       "      <td>1</td>\n",
       "      <td>5</td>\n",
       "      <td>4</td>\n",
       "      <td>3</td>\n",
       "    </tr>\n",
       "  </tbody>\n",
       "</table>\n",
       "</div>"
      ],
      "text/plain": [
       "    a  b  c  d   e  f  g   h   i  j   k   l   m   n  o   p   q   r   s   t  \\\n",
       "0  17  0  2  4  25  4  5  34  16  0  16  34  41  10  0  17  15  16   7  23   \n",
       "1  12  2  0  1  28  1  8  30  24  2  22  24  30  16  1  14  12  10  14  19   \n",
       "\n",
       "    u   v   w  x  y  z  label  \n",
       "0  50  30  30  3  2  5      7  \n",
       "1  43  39  24  1  5  4      3  "
      ]
     },
     "metadata": {},
     "output_type": "display_data"
    }
   ],
   "source": [
    "X_train, X_test, feature_names= prepare_data(train= xtrain['text'].tolist(),\n",
    "                                            test= xtest['text'].tolist(),\n",
    "                                            feature_type= 'bow')\n",
    "df_train= pd.DataFrame(X_train, columns= feature_names)\n",
    "df_train['label']= ytrain\n",
    "print(df_train.shape)\n",
    "display(df_train.head(2))"
   ]
  },
  {
   "cell_type": "markdown",
   "metadata": {},
   "source": [
    "## Build a Baseline model\n",
    "\n",
    "We have a multiclass classification problem. We can try to fit these models:\n",
    "\n",
    "1. Multinomial Naiive Bayes on bow features\n",
    "2. XGBoost (tfidf)\n",
    "3. FNN (tfidf)"
   ]
  },
  {
   "cell_type": "markdown",
   "metadata": {},
   "source": [
    "#### Multinomial Naiive Bayes"
   ]
  },
  {
   "cell_type": "code",
   "execution_count": 14,
   "metadata": {},
   "outputs": [],
   "source": [
    "X_train, X_test, feature_names= prepare_data(train= xtrain['text'].tolist(),\n",
    "                                            test= xtest['text'].tolist(),\n",
    "                                            feature_type= 'bow')\n",
    "y_train= ytrain['label'].values"
   ]
  },
  {
   "cell_type": "code",
   "execution_count": 16,
   "metadata": {},
   "outputs": [],
   "source": [
    "clf= MultinomialNB(alpha= 0)\n",
    "scores= cross_val_score(estimator=clf, \n",
    "                        X=X_train, \n",
    "                        y=y_train, \n",
    "                        cv= 7, \n",
    "                        scoring= 'accuracy', \n",
    "                        n_jobs= -1)"
   ]
  },
  {
   "cell_type": "code",
   "execution_count": 17,
   "metadata": {},
   "outputs": [
    {
     "data": {
      "text/plain": [
       "0.3066154519818124"
      ]
     },
     "execution_count": 17,
     "metadata": {},
     "output_type": "execute_result"
    }
   ],
   "source": [
    "scores.mean()"
   ]
  },
  {
   "cell_type": "markdown",
   "metadata": {},
   "source": [
    "#### XGBoost"
   ]
  },
  {
   "cell_type": "code",
   "execution_count": 18,
   "metadata": {},
   "outputs": [],
   "source": [
    "class FitXGBoost:\n",
    "    \"\"\"\n",
    "    Fit XGBoost for regression & (multiclass)classification\n",
    "    \"\"\"\n",
    "    \n",
    "    def __init__(self, X, y, init_params, tuning_params, metric, cv= 5, seed= 42, \n",
    "                             problem_type='classification'):\n",
    "        self.X= X\n",
    "        self.y= y\n",
    "        self.init_params= init_params\n",
    "        self.tuning_params= tuning_params\n",
    "        self.metric= metric\n",
    "        self.cv= cv\n",
    "        self.seed= seed\n",
    "        self.problem_type= problem_type\n",
    "        if self.problem_type not in ['regression', 'classification']:\n",
    "            raise ValueError('accepted values for \"problem_type\" are either \"regression\" or \"classification.\"')\n",
    "    \n",
    "    def get_initial_ntrees(self) -> int:\n",
    "        \"\"\"\n",
    "        With some initial parameters, we first find the optimum number of trees\n",
    "        - returns the optimum initial number of trees\n",
    "        \"\"\"\n",
    "        if self.problem_type=='classification':\n",
    "            # compute class weights\n",
    "            classes= np.unique(self.y)\n",
    "            class_weights= list( class_weight.compute_class_weight('balanced', \n",
    "                                                                    classes,\n",
    "                                                                    self.y) )\n",
    "            class_weights= {k: class_weights[i] for i, k in enumerate(classes)}\n",
    "            w_array = np.ones(self.y.shape[0], dtype = 'float')\n",
    "            for i, val in enumerate(self.y):\n",
    "                w_array[i] = class_weights[val]\n",
    "        # build dataset special for xgboost \n",
    "        self.dtrain = xgb.DMatrix(self.X, label= self.y, weight= w_array )\n",
    "        \n",
    "        # find initial number of trees for a set of initial parameters\n",
    "        print('Finding the initial number of trees with the initial parameters...')\n",
    "        cv_results = xgb.cv( self.init_params, \n",
    "                             self.dtrain,  \n",
    "                             num_boost_round= 1000, \n",
    "                             seed= self.seed, \n",
    "                             nfold= self.cv,\n",
    "                             stratified= (self.problem_type == 'classification'),\n",
    "                             metrics= {self.metric},   \n",
    "                             early_stopping_rounds= 50,\n",
    "                             verbose_eval= 0)\n",
    "        return len(cv_results)\n",
    "        \n",
    "    def XGB_gridsearch(self, \n",
    "                       estimator: xgb.XGBModel, \n",
    "                       params: typing.Dict[str, typing.Any]\n",
    "                      )-> GridSearchCV:\n",
    "        \"\"\"\n",
    "        After finding the initial number of trees to start with, we have to adjust other hyper-\n",
    "        parameters as explained before with gridsearch\n",
    "        \"\"\"\n",
    "        if self.metric=='rmse':\n",
    "            scoring= 'neg_mean_squared_error'\n",
    "        elif self.metric == 'merror':\n",
    "            scoring= 'accuracy'\n",
    "        else:\n",
    "            scoring= self.metric            \n",
    "        # There is not a match between gridsearchcv scoring naming and that of xgboost naming\n",
    "        grid_search = GridSearchCV(estimator= estimator, \n",
    "                                   param_grid = params,\n",
    "                                   scoring= scoring, \n",
    "                                   cv = self.cv, \n",
    "                                   n_jobs= -1, \n",
    "                                   verbose = 2)\n",
    "        grid_search.fit(self.X, self.y)\n",
    "        return grid_search\n",
    "    ##############################################\n",
    "    def run(self) -> typing.Tuple[ typing.Dict[str, typing.Any], pd.DataFrame]:\n",
    "        \"\"\"\n",
    "        1. finds the initial number of trees\n",
    "        2. optimizes hyperparameters based on tuning_params\n",
    "        3. finds the optimum number of trees with a low rating rate and \n",
    "            found hyperparameters\n",
    "        \n",
    "        It returns hyperparameters and cv_results\n",
    "        \"\"\"\n",
    "        ntrees= self.get_initial_ntrees()\n",
    "        # This is a base estimator for grid search\n",
    "        if self.problem_type =='regression':\n",
    "            xgb_model= xgb.XGBRegressor(random_state= self.seed )\n",
    "        elif self.problem_type =='classification':\n",
    "            xgb_model= xgb.XGBClassifier(random_state= self.seed )\n",
    "        params= self.init_params\n",
    "        params['learning_rate']= params['eta']; del(params['eta'])\n",
    "        params['n_estimators']= ntrees\n",
    "        # convert values into lists\n",
    "        for k, v in params.items():\n",
    "            params[k]= [v]\n",
    "\n",
    "        tuning_order= [ ['max_depth', 'min_child_weight'], ['gamma'], \n",
    "                       [ 'colsample_bytree', 'subsample'], ['reg_lambda'], ['reg_alpha'] ]\n",
    "        for stage in tuning_order:\n",
    "            for el in stage:\n",
    "                params[el]= self.tuning_params[el]\n",
    "\n",
    "            print('grid-searching for \" %s \"' %str(stage))\n",
    "            gs= self.XGB_gridsearch(estimator= xgb_model, params= params )\n",
    "            updated_params= gs.best_params_\n",
    "            updated_score= gs.best_score_\n",
    "            for el in stage:\n",
    "                params[el]= [ updated_params[el] ]\n",
    "            print('updated parameters...')\n",
    "            if self.problem_type=='regression':\n",
    "                updated_score= math.sqrt(-updated_score)\n",
    "            print('The current score for metric \"%s\" is: %0.4f ' %\n",
    "                                                  ( self.metric, updated_score ) ) \n",
    "            print('*'*10)\n",
    "\n",
    "        print('Found all the hyperparameters for the initial number of trees: ntrees= %d' %ntrees)\n",
    "        hyperparameters= params\n",
    "        for k,v in hyperparameters.items():\n",
    "            hyperparameters[k]= v[0] # delisting\n",
    "\n",
    "        print('Now we will start the process of learning by the found hyperparameters and by \\\n",
    "considering a low learning rate\\n')\n",
    "\n",
    "        hyperparameters['eta']= 0.01\n",
    "        del(hyperparameters['learning_rate'], hyperparameters['n_estimators'])\n",
    "\n",
    "        cv_results = xgb.cv( hyperparameters, \n",
    "                         self.dtrain,  \n",
    "                         num_boost_round= 3000, \n",
    "                         seed= self.seed, \n",
    "                         nfold= self.cv, \n",
    "                         stratified= (self.problem_type == 'classification'),\n",
    "                         metrics= { self.metric },   \n",
    "                         early_stopping_rounds= 100)\n",
    "        print('The optimum number of trees is: %d' %len(cv_results))\n",
    "        print('train score for metric \"%s\" is: %0.04f' % (self.metric, cv_results.iloc[-1, 0]))\n",
    "        print('cv score for metric \"%s\" is: %0.04f' % (self.metric, cv_results.iloc[-1, 2]))\n",
    "\n",
    "        # prepare for output\n",
    "        hyperparameters['learning_rate']= 0.01; del(hyperparameters['eta'])\n",
    "        hyperparameters['n_estimators']= len(cv_results)\n",
    "        print('The best hyperparameters are: \\n')\n",
    "        print(hyperparameters)\n",
    "        return hyperparameters, cv_results"
   ]
  },
  {
   "cell_type": "code",
   "execution_count": null,
   "metadata": {},
   "outputs": [
    {
     "name": "stderr",
     "output_type": "stream",
     "text": [
      "/opt/conda/lib/python3.7/site-packages/sklearn/utils/validation.py:70: FutureWarning: Pass classes=[ 0  1  2  3  4  5  6  7  8  9 10 11], y=[ 7  3  8 ... 10  6  3] as keyword args. From version 0.25 passing these as positional arguments will result in an error\n",
      "  FutureWarning)\n"
     ]
    },
    {
     "name": "stdout",
     "output_type": "stream",
     "text": [
      "Finding the initial number of trees with the initial parameters...\n"
     ]
    }
   ],
   "source": [
    "init_params= {\n",
    "                'eta':0.2,\n",
    "                'max_depth': 8,\n",
    "                'min_child_weight': 3,\n",
    "                'colsample_bytree': 0.8,\n",
    "                'subsample': 0.8,\n",
    "                'gamma': 0, \n",
    "                'reg_lambda': 1,\n",
    "                'reg_alpha': 0,\n",
    "                'objective':'multi:softmax',\n",
    "                'num_class': len(ytrain['label'].unique())}\n",
    "tuning_params= {\n",
    "                'learning_rate': [0.2],\n",
    "                'max_depth': [3, 4, 5, 6, 7, 8, 9, 10],\n",
    "                'min_child_weight': [1, 2, 3, 4, 5],\n",
    "                'colsample_bytree': [i/10.0 for i in range(4,10)],\n",
    "                'subsample': [i/10.0 for i in range(6,10)],\n",
    "                'gamma': [i/10.0 for i in range(0,5)], \n",
    "                'reg_lambda': [1e-5, 1e-2, 0.1, 1, 10, 100],\n",
    "                'reg_alpha': [1e-5, 1e-2, 0.1, 1, 10, 100],\n",
    "                'objective': ['multi:softmax'],\n",
    "                'num_class': [len(ytrain['label'].unique())]}\n",
    "\n",
    "fit_xgboost= FitXGBoost(X= X_train,\n",
    "                        y= y_train,\n",
    "                        init_params= init_params.copy(),\n",
    "                        tuning_params= tuning_params.copy(),\n",
    "                        metric= 'merror',\n",
    "                        cv= 5,\n",
    "                        seed= seed,\n",
    "                        problem_type= 'classification')\n",
    "\n",
    "hyperparameters, cv_results= fit_xgboost.run()"
   ]
  },
  {
   "cell_type": "code",
   "execution_count": null,
   "metadata": {},
   "outputs": [],
   "source": [
    "# get tfidf data\n",
    "X_train, X_test, feature_names= prepare_data(train= xtrain['text'].tolist(),\n",
    "                                            test= xtest['text'].tolist(),\n",
    "                                            feature_type= 'tfidf')\n",
    "y_train= ytrain['label'].values\n",
    "\n",
    "xgb_clf= xgb.XGBClassifier(**hyperparameters, \n",
    "                       random_state= seed, \n",
    "                       verbosity= 1 )\n",
    "\n",
    "# get weights\n",
    "classes= np.unique(y_train)\n",
    "class_weights= list( class_weight.compute_class_weight('balanced', \n",
    "                                                        classes,\n",
    "                                                        y_train) )\n",
    "class_weights= {k: class_weights[i] for i, k in enumerate(classes)}\n",
    "w_array = np.ones(y_train.shape[0], dtype = 'float')\n",
    "for i, val in enumerate(y_train):\n",
    "    w_array[i] = class_weights[val]\n",
    "\n",
    "# fit the model    \n",
    "xgb_clf.fit(X_train, y_train, sample_weight= w_array)\n",
    "y_train_predicted= xgb_clf.predict(X_train)"
   ]
  },
  {
   "cell_type": "markdown",
   "metadata": {},
   "source": [
    "#### Feedforward Neural Network"
   ]
  },
  {
   "cell_type": "code",
   "execution_count": null,
   "metadata": {},
   "outputs": [],
   "source": [
    "X_train, X_test, feature_names= prepare_data(train= xtrain['text'].tolist(),\n",
    "                                            test= xtest['text'].tolist(),\n",
    "                                            feature_type= 'tfidf')\n",
    "y_train= ytrain['label']\n",
    "# needed for multiclass classification \n",
    "y_train= utils.to_categorical(y_train)\n",
    "\n",
    "print('X_train shape: ', X_train.shape)\n",
    "print('y_train shape: ', y_train.shape)"
   ]
  },
  {
   "cell_type": "code",
   "execution_count": null,
   "metadata": {},
   "outputs": [],
   "source": [
    "def NN_model():\n",
    "    kernel= 'normal'\n",
    "    model= Sequential(name= 'sequential')\n",
    "    #### layer 1\n",
    "    model.add(Dense(100, \n",
    "                    input_dim= 26, \n",
    "                    kernel_initializer= kernel, \n",
    "                    activation= 'relu', \n",
    "                    name= 'dense_1'))\n",
    "    model.add(Dropout(0.4, name= 'dropout_1'))\n",
    "    #### layer 2\n",
    "    model.add(Dense(50, \n",
    "                    kernel_initializer= kernel, \n",
    "                    activation= 'relu', \n",
    "                    name= 'dense_2'))\n",
    "    model.add(Dropout(0.4, name= 'dropout_2'))\n",
    "    #### layer 3\n",
    "    model.add(Dense(25, \n",
    "                    kernel_initializer= kernel, \n",
    "                    activation= 'relu', \n",
    "                    name= 'dense_3'))\n",
    "    model.add(Dropout(0.4, name= 'dropout_3'))\n",
    "    #### layer 4\n",
    "    model.add(Dense(12, \n",
    "                    kernel_initializer= kernel, \n",
    "                    activation= 'softmax', \n",
    "                    name= 'dense_4'))\n",
    "    model.compile(loss= 'categorical_crossentropy', optimizer= 'adam', metrics= ['accuracy'])\n",
    "    plot_model(model, show_shapes= True, to_file= 'FNN.png')\n",
    "    model.summary()\n",
    "    return model"
   ]
  },
  {
   "cell_type": "code",
   "execution_count": null,
   "metadata": {},
   "outputs": [],
   "source": [
    "def report_model(history: typing.Dict) -> None:\n",
    "    plt.figure(figsize= (12, 4))\n",
    "    plt.ylim(0, 1)\n",
    "    plt.plot(history['accuracy'], )\n",
    "    #plt.plot(history['val_accuracy'], marker= 'o', markersize= 4)\n",
    "    plt.title('model accuacy')\n",
    "    plt.ylabel('accuracy')\n",
    "    plt.xlabel('epoch')\n",
    "    plt.legend(['train', 'test'], loc='lower right')\n",
    "    plt.show()\n",
    "    plt.close()\n",
    "    \n",
    "    plt.figure(figsize= (12, 4))\n",
    "    plt.plot(history['loss'], )\n",
    "    #plt.plot(history['val_loss'], marker= 'o', markersize= 4)\n",
    "    plt.title('model loss')\n",
    "    plt.ylabel('loss')\n",
    "    plt.xlabel('epoch')\n",
    "    plt.legend(['train', 'test'], loc='upper right')\n",
    "    plt.show()\n",
    "    plt.close()"
   ]
  },
  {
   "cell_type": "code",
   "execution_count": null,
   "metadata": {},
   "outputs": [],
   "source": [
    "model= KerasClassifier(build_fn= NN_model,\n",
    "                        epochs= 100, \n",
    "                        batch_size= 128)\n",
    "scores= cross_val_score(estimator= model, \n",
    "                        X= X_train, \n",
    "                        y= y_train, \n",
    "                        cv= 5, \n",
    "                        n_jobs= -1)"
   ]
  },
  {
   "cell_type": "code",
   "execution_count": null,
   "metadata": {},
   "outputs": [],
   "source": [
    "scores"
   ]
  },
  {
   "cell_type": "code",
   "execution_count": null,
   "metadata": {},
   "outputs": [],
   "source": [
    "print(scores.mean())"
   ]
  },
  {
   "cell_type": "code",
   "execution_count": null,
   "metadata": {},
   "outputs": [],
   "source": []
  }
 ],
 "metadata": {
  "kernelspec": {
   "display_name": "Python 3",
   "language": "python",
   "name": "python3"
  },
  "language_info": {
   "codemirror_mode": {
    "name": "ipython",
    "version": 3
   },
   "file_extension": ".py",
   "mimetype": "text/x-python",
   "name": "python",
   "nbconvert_exporter": "python",
   "pygments_lexer": "ipython3",
   "version": "3.8.3"
  }
 },
 "nbformat": 4,
 "nbformat_minor": 4
}
